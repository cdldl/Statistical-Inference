{
 "cells": [
  {
   "cell_type": "code",
   "execution_count": 1,
   "metadata": {},
   "outputs": [],
   "source": [
    "import numpy as np\n",
    "import pandas as pd\n",
    "import pandas as pd\n",
    "from sklearn.linear_model import Ridge\n",
    "from sklearn.model_selection import GridSearchCV\n",
    "from sklearn.preprocessing import StandardScaler\n",
    "from sklearn.pipeline import Pipeline\n",
    "import matplotlib.pyplot as plt\n",
    "import matplotlib\n",
    "from scipy.optimize import minimize\n",
    "from sklearn.datasets import make_regression\n",
    "from scipy.optimize import leastsq\n",
    "from scipy import linalg\n",
    "from scipy.linalg import eigh as largest_eigh\n",
    "from sklearn.model_selection import train_test_split\n",
    "import warnings\n",
    "warnings.simplefilter(\"ignore\")\n",
    "np.random.seed(0)"
   ]
  },
  {
   "cell_type": "code",
   "execution_count": 2,
   "metadata": {},
   "outputs": [],
   "source": [
    "def simulate_data(gamma,point=100,bias = 1,noise = 1,n_informative = 10,random_state=1):\n",
    "    n_features = int(gamma* point)\n",
    "    n_samples = int(1/gamma * point)\n",
    "    x, y, coef = make_regression(n_samples = n_samples, n_features = n_features,\n",
    "                                n_informative =n_informative, n_targets = 1,bias = bias,\n",
    "                                noise = noise, coef = True,random_state=random_state)\n",
    "    u, s, vh = np.linalg.svd(x, full_matrices=False)\n",
    "    xa = u @ np.diag(s) @ vh\n",
    "    return xa, y, coef\n",
    "    \n",
    "def least_square(x,y):\n",
    "    coefs = np.linalg.inv(x.T @ x) @ x.T @ y\n",
    "    return coefs\n",
    "\n",
    "def inverse_least_square(x,y):\n",
    "    coefs = x.T @ np.linalg.inv(x @ x.T)  @ y\n",
    "    return coefs\n",
    "\n",
    "def mse(y_true, y_pred):\n",
    "    return np.average((y_true - y_pred) ** 2)\n",
    "\n",
    "def obj(beta, x, y):\n",
    "    error = mse(y,np.matmul(x,beta))\n",
    "    return error"
   ]
  },
  {
   "cell_type": "markdown",
   "metadata": {},
   "source": [
    "<h1> Question 1</h1>"
   ]
  },
  {
   "cell_type": "code",
   "execution_count": 47,
   "metadata": {},
   "outputs": [
    {
     "data": {
      "text/html": [
       "<div>\n",
       "<style scoped>\n",
       "    .dataframe tbody tr th:only-of-type {\n",
       "        vertical-align: middle;\n",
       "    }\n",
       "\n",
       "    .dataframe tbody tr th {\n",
       "        vertical-align: top;\n",
       "    }\n",
       "\n",
       "    .dataframe thead th {\n",
       "        text-align: right;\n",
       "    }\n",
       "</style>\n",
       "<table border=\"1\" class=\"dataframe\">\n",
       "  <thead>\n",
       "    <tr style=\"text-align: right;\">\n",
       "      <th></th>\n",
       "      <th>mse_ls</th>\n",
       "      <th>mse_ils</th>\n",
       "    </tr>\n",
       "    <tr>\n",
       "      <th>type</th>\n",
       "      <th></th>\n",
       "      <th></th>\n",
       "    </tr>\n",
       "  </thead>\n",
       "  <tbody>\n",
       "    <tr>\n",
       "      <th>n &gt; p</th>\n",
       "      <td>2.019759e+00</td>\n",
       "      <td>2.356262e+09</td>\n",
       "    </tr>\n",
       "    <tr>\n",
       "      <th>n&lt;p</th>\n",
       "      <td>8.214115e+12</td>\n",
       "      <td>3.122049e+04</td>\n",
       "    </tr>\n",
       "  </tbody>\n",
       "</table>\n",
       "</div>"
      ],
      "text/plain": [
       "             mse_ls       mse_ils\n",
       "type                             \n",
       "n > p  2.019759e+00  2.356262e+09\n",
       "n<p    8.214115e+12  3.122049e+04"
      ]
     },
     "execution_count": 47,
     "metadata": {},
     "output_type": "execute_result"
    }
   ],
   "source": [
    "gammas = [5,0.1]\n",
    "simulations = 3\n",
    "mse_ls= []; mse_ils= []; df_ls =[]; df_ils = [];df_ls_test =[]; df_ils_test = []\n",
    "for gamma in gammas:\n",
    "    for n in range(simulations):\n",
    "        x, y, _ = simulate_data(gamma,point=1000,random_state=n)\n",
    "        X_train, X_test, y_train, y_test = train_test_split(x, y, test_size=0.33, random_state=42)\n",
    "        coefs_ls = least_square(X_train,y_train)\n",
    "        coefs_ils = inverse_least_square(X_train,y_train)\n",
    "        mse_ls.append(mse(X_test @ coefs_ls, y_test))\n",
    "        df_ls.append(np.sum(np.cov(X_train @ coefs_ls,y_train))/\n",
    "                     np.std(y_train - X_train @ coefs_ls)**2)\n",
    "        df_ils.append(np.sum(np.cov(X_train @ coefs_ils,y_train))/\n",
    "                      np.std(y_train - X_train @ coefs_ils)**2)\n",
    "        df_ls_test.append(np.sum(np.cov(X_test @ coefs_ls,y_test))/\n",
    "                          np.std(y_test - X_test @ coefs_ls)**2)\n",
    "        df_ils_test.append(np.sum(np.cov(X_test @ coefs_ils,y_test))/\n",
    "                           np.std(y_test - X_test @ coefs_ils)**2)\n",
    "        mse_ils.append(mse(X_test @ coefs_ils, y_test)) \n",
    "    if gamma == gammas[0]:\n",
    "        data = pd.DataFrame({'df_ls_test':df_ls_test,'df_ils_test':df_ils_test,'df_ls':df_ls,'df_ils':df_ils,'mse_ls':mse_ls,'mse_ils':mse_ils,'type': ['n<p'] * simulations})\n",
    "        mse_ls= []; mse_ils= []; df_ls =[]; df_ils = []\n",
    "    else:\n",
    "        for i in range(simulations):\n",
    "            data= data.append({'df_ls_test':df_ls_test[i],'df_ils_test':df_ils_test[i],'df_ls':df_ls[i],'df_ils':df_ils[i],'mse_ls':mse_ls[i],'mse_ils':mse_ils[i],'type': 'n > p'},ignore_index=True)\n",
    "data.groupby(['type'])[['mse_ls','mse_ils']].mean()"
   ]
  },
  {
   "cell_type": "code",
   "execution_count": 52,
   "metadata": {},
   "outputs": [
    {
     "data": {
      "text/html": [
       "<div>\n",
       "<style scoped>\n",
       "    .dataframe tbody tr th:only-of-type {\n",
       "        vertical-align: middle;\n",
       "    }\n",
       "\n",
       "    .dataframe tbody tr th {\n",
       "        vertical-align: top;\n",
       "    }\n",
       "\n",
       "    .dataframe thead th {\n",
       "        text-align: right;\n",
       "    }\n",
       "</style>\n",
       "<table border=\"1\" class=\"dataframe\">\n",
       "  <thead>\n",
       "    <tr style=\"text-align: right;\">\n",
       "      <th></th>\n",
       "      <th>df_ls</th>\n",
       "      <th>df_ils</th>\n",
       "      <th>df_ls_test</th>\n",
       "      <th>df_ils_test</th>\n",
       "    </tr>\n",
       "    <tr>\n",
       "      <th>type</th>\n",
       "      <th></th>\n",
       "      <th></th>\n",
       "      <th></th>\n",
       "      <th></th>\n",
       "    </tr>\n",
       "  </thead>\n",
       "  <tbody>\n",
       "    <tr>\n",
       "      <th>n &gt; p</th>\n",
       "      <td>142253.238478</td>\n",
       "      <td>1.001166e+00</td>\n",
       "      <td>1.015386</td>\n",
       "      <td>1.125285</td>\n",
       "    </tr>\n",
       "    <tr>\n",
       "      <th>n&lt;p</th>\n",
       "      <td>1.012686</td>\n",
       "      <td>2.706456e+31</td>\n",
       "      <td>1.015386</td>\n",
       "      <td>1.125285</td>\n",
       "    </tr>\n",
       "  </tbody>\n",
       "</table>\n",
       "</div>"
      ],
      "text/plain": [
       "               df_ls        df_ils  df_ls_test  df_ils_test\n",
       "type                                                       \n",
       "n > p  142253.238478  1.001166e+00    1.015386     1.125285\n",
       "n<p         1.012686  2.706456e+31    1.015386     1.125285"
      ]
     },
     "execution_count": 52,
     "metadata": {},
     "output_type": "execute_result"
    }
   ],
   "source": [
    "# Degree of freedom\n",
    "data.groupby(['type'])[['df_ls','df_ils','df_ls_test','df_ils_test']].mean()"
   ]
  },
  {
   "cell_type": "markdown",
   "metadata": {},
   "source": [
    "$ \\hat{B}  = \\text{arg min}{ ||b||^2 : \\text{b minimizes } \\frac{1}{2n}||y - XB||_2^2} $\n",
    "J(w) is called the least square cost function. \n",
    "In the case $N > P$:\n",
    "\\begin{align}\n",
    "\\triangledown J = X^TXB-X^Ty = 0\n",
    "\\end{align}\n",
    "Hence,\n",
    "\\begin{align}\n",
    "X^TXB=X^Ty \\\\\n",
    "B=(X^TX)^{-1} X^Ty\n",
    "\\end{align}\n",
    "\n",
    "We need to find the pseudo inverse which is computationally expensive for big datasets. Hence, we suggest alternatives in this homework (gradient descent).\n",
    "\n",
    "In the case $N < P$, by applying Lagrangian theory:\n",
    "$L(B, \\lambda) = ||B||^2 + \\lambda^T(XB − y)$ where $\\lambda^T = (\\lambda_1, \\lambda_2, . . . \\lambda_N ). \\lambda_i, i = 1, 2, . . . N$ are the lagrangian parameters. Taking the derivatives with respect to $B$ and $\\lambda$:\n",
    "\\begin{align}\n",
    "2B + X^T \\lambda = 0 \\\\\n",
    "B = -\\frac{X^T\\lambda}{2}\\\\ \n",
    "\\text{and}\\\\\n",
    "XB - y = 0\\\\\n",
    "\\frac{- XX^T\\lambda}{2} = y\\\\\n",
    "\\text{Therefore}\\\\\n",
    "\\lambda = - (XX^T)^{-1}2y\\\\\n",
    "\\text{Hence}\\\\\n",
    "B= X^T (XX^T)^{-1}y\\\\\n",
    "\\end{align}\n",
    "\n",
    "\n",
    "The degree of freedom based on Stein's Lemma is given in the code above.\n",
    "\n"
   ]
  },
  {
   "cell_type": "markdown",
   "metadata": {},
   "source": [
    "<h1>Question 2"
   ]
  },
  {
   "cell_type": "code",
   "execution_count": 60,
   "metadata": {},
   "outputs": [
    {
     "data": {
      "text/plain": [
       "<matplotlib.axes._subplots.AxesSubplot at 0x167981ade48>"
      ]
     },
     "execution_count": 60,
     "metadata": {},
     "output_type": "execute_result"
    },
    {
     "data": {
      "image/png": "[encoded data removed]",
      "text/plain": [
       "<Figure size 432x288 with 1 Axes>"
      ]
     },
     "metadata": {
      "needs_background": "light"
     },
     "output_type": "display_data"
    }
   ],
   "source": [
    "def run_lm():\n",
    "    bias = []; variance = []\n",
    "    gammas = np.linspace(0.2,5,25)\n",
    "    for gamma in gammas:\n",
    "        x, y, _ = simulate_data(gamma,point=100,bias=3,noise=1)\n",
    "        #X_train, X_test, y_train, y_test = train_test_split(x, y, test_size=0.33, random_state=42)\n",
    "        beta_init = np.array([1]* x.shape[1])\n",
    "        beta = minimize(obj, beta_init, args=(x,y),method='BFGS', options={'maxiter': 50}).x\n",
    "        y_pred = x @ beta \n",
    "        bias.append(np.mean(y - y_pred)** 2)\n",
    "        variance.append(np.mean((y - y_pred) ** 2))\n",
    "    return pd.DataFrame({'gammas':gammas,'bias':bias, 'variance':variance})\n",
    "\n",
    "data = run_lm()\n",
    "data.plot(x='gammas',y=['bias','variance'],logy=True)"
   ]
  },
  {
   "cell_type": "markdown",
   "metadata": {},
   "source": [
    "<h1> Question 3"
   ]
  },
  {
   "cell_type": "code",
   "execution_count": 7,
   "metadata": {},
   "outputs": [
    {
     "data": {
      "text/plain": [
       "<matplotlib.axes._subplots.AxesSubplot at 0x167962da710>"
      ]
     },
     "execution_count": 7,
     "metadata": {},
     "output_type": "execute_result"
    },
    {
     "data": {
      "image/png": "[encoded data removed]",
      "text/plain": [
       "<Figure size 432x288 with 1 Axes>"
      ]
     },
     "metadata": {
      "needs_background": "light"
     },
     "output_type": "display_data"
    }
   ],
   "source": [
    "gammas = [5,0.1]\n",
    "epochs = 50; simulations = 20\n",
    "mse_ls= []\n",
    "for gamma in gammas:\n",
    "    for n in range(simulations):\n",
    "        x, y, beta_real = simulate_data(gamma=gamma,point=100,random_state=n)\n",
    "        #X_train, X_test, y_train, y_test = train_test_split(x, y, test_size=0.33, random_state=42)\n",
    "        beta_init = np.array([0]*x.shape[1])\n",
    "        eigenValues = linalg.eig(x @ x.T)[0]\n",
    "        eigenValues.sort()\n",
    "        eigen_max = eigenValues[-1]\n",
    "        for i in range(epochs): \n",
    "            beta = beta_init + 1/eigen_max.real *  (x.T / x.shape[0]) @ (y - x @ beta_init)\n",
    "            beta_init = beta\n",
    "        mse_ls.append(mse(beta_real,beta))\n",
    "    if gamma == gammas[0]:\n",
    "        data = pd.DataFrame({'mse_ls':mse_ls,'gamma': [gamma] * simulations})\n",
    "        mse_ls= []\n",
    "    else:\n",
    "        for i in range(simulations):\n",
    "            data= data.append({'mse_ls':mse_ls[i],'gamma': gamma},ignore_index=True)\n",
    "\n",
    "data.boxplot(by='gamma')"
   ]
  },
  {
   "cell_type": "markdown",
   "metadata": {},
   "source": [
    "Hence, the method converges only when gamma is large, that is the case $N < P$"
   ]
  },
  {
   "cell_type": "markdown",
   "metadata": {},
   "source": [
    "<h1>Question 4"
   ]
  },
  {
   "cell_type": "code",
   "execution_count": 111,
   "metadata": {},
   "outputs": [
    {
     "name": "stdout",
     "output_type": "stream",
     "text": [
      "True Beta 86.50810998606796  Pred Beta 86.54100839928071\n"
     ]
    },
    {
     "data": {
      "text/plain": [
       "<matplotlib.axes._subplots.AxesSubplot at 0x1841b434198>"
      ]
     },
     "execution_count": 111,
     "metadata": {},
     "output_type": "execute_result"
    },
    {
     "data": {
      "image/png": "[encoded data removed]",
      "text/plain": [
       "<Figure size 432x288 with 1 Axes>"
      ]
     },
     "metadata": {
      "needs_background": "light"
     },
     "output_type": "display_data"
    },
    {
     "data": {
      "image/png": "[encoded data removed]",
      "text/plain": [
       "<Figure size 432x288 with 1 Axes>"
      ]
     },
     "metadata": {
      "needs_background": "light"
     },
     "output_type": "display_data"
    },
    {
     "data": {
      "image/png": "[encoded data removed]",
      "text/plain": [
       "<Figure size 432x288 with 1 Axes>"
      ]
     },
     "metadata": {
      "needs_background": "light"
     },
     "output_type": "display_data"
    }
   ],
   "source": [
    "def cost(beta,x,y):\n",
    "    return (1/ 2*len(y)) * np.sum(np.square(y- (x @ np.array(beta))))\n",
    "\n",
    "epochs = 10000\n",
    "data = pd.DataFrame()\n",
    "x, y, beta_real = simulate_data(gamma=0.01,bias=5,noise=1,n_informative=1)\n",
    "whi = np.where(beta_real!=0)[0][0]\n",
    "beta_init = [0] * x.shape[1]\n",
    "for i in range(epochs):\n",
    "    beta = minimize(cost, beta_init, args=(x, y),method='BFGS', options={'maxiter': 50}).x\n",
    "    delta = (x.T / x.shape[0]) @ (y - x @ beta_init)\n",
    "    beta_init = beta + delta\n",
    "    c = cost(beta_init,x,y)\n",
    "    data = data.append({'time':i,'betas': beta[whi],'delta':delta[whi],'costs':c},ignore_index=True)\n",
    "\n",
    "print('True Beta', beta_real,' Pred Beta', beta_init[whi])\n",
    "data.iloc[1:,:].plot(x='time',y='betas')\n",
    "data.iloc[1:,:].plot(x='time',y='delta')\n",
    "data.iloc[1:,:].plot(x='time',y='costs',logx=True)"
   ]
  },
  {
   "cell_type": "markdown",
   "metadata": {},
   "source": [
    "<h1> Question 5"
   ]
  },
  {
   "cell_type": "code",
   "execution_count": 128,
   "metadata": {},
   "outputs": [
    {
     "name": "stdout",
     "output_type": "stream",
     "text": [
      "Best Alpha:  0.11482836925880943\n"
     ]
    }
   ],
   "source": [
    "x, y, beta_real = simulate_data(gamma=0.01,bias=5,noise=5,n_informative=1)\n",
    "alg = Pipeline([('scaler',StandardScaler()), ('reg',Ridge())])\n",
    "parameters = {\n",
    "                'reg__alpha': np.logspace(-100, 1, num=50,base=2)\n",
    "                }\n",
    "clf = GridSearchCV(alg,\n",
    "                   parameters,\n",
    "                   verbose=0, \n",
    "                   scoring=\"neg_mean_squared_error\",\n",
    "                   cv=10,\n",
    "                   n_jobs=-1)\n",
    "clf.fit(x,y)\n",
    "model = clf.best_estimator_.named_steps[\"reg\"]\n",
    "print('Best Alpha: ', model.alpha)"
   ]
  },
  {
   "cell_type": "code",
   "execution_count": 142,
   "metadata": {},
   "outputs": [
    {
     "name": "stdout",
     "output_type": "stream",
     "text": [
      "True Beta 86.50810998606796 beta Hat 86.47574728146213 Beta Gradient 86.49823586734048\n"
     ]
    },
    {
     "data": {
      "text/plain": [
       "<matplotlib.axes._subplots.AxesSubplot at 0x1841ff7e5c0>"
      ]
     },
     "execution_count": 142,
     "metadata": {},
     "output_type": "execute_result"
    },
    {
     "data": {
      "image/png": "[encoded data removed]",
      "text/plain": [
       "<Figure size 432x288 with 1 Axes>"
      ]
     },
     "metadata": {
      "needs_background": "light"
     },
     "output_type": "display_data"
    },
    {
     "data": {
      "image/png": "[encoded data removed]",
      "text/plain": [
       "<Figure size 432x288 with 1 Axes>"
      ]
     },
     "metadata": {
      "needs_background": "light"
     },
     "output_type": "display_data"
    },
    {
     "data": {
      "image/png": "[encoded data removed]",
      "text/plain": [
       "<Figure size 432x288 with 1 Axes>"
      ]
     },
     "metadata": {
      "needs_background": "light"
     },
     "output_type": "display_data"
    }
   ],
   "source": [
    "def cost_ridge(beta,x,y,lam):\n",
    "    return (1/ 2*len(y)) * np.sum(np.square(y- (x @ np.array(beta)))) + (lamda / (2*len(y))) * np.sum(np.square(beta))\n",
    "\n",
    "epochs = 10000\n",
    "lam = model.alpha\n",
    "data = pd.DataFrame()\n",
    "whi = np.where(beta_real!=0)[0][0]\n",
    "beta_init = [0] * x.shape[1]\n",
    "A = x.T @ x\n",
    "beta_hat = np.linalg.inv(A + lam * np.eye(A.shape[0])) @ (x.T @ y)\n",
    "for i in range(epochs):\n",
    "    beta = minimize(cost, beta_init, args=(x, y),method='BFGS', options={'maxiter': 50}).x\n",
    "    delta = (x.T / x.shape[0]) @ (y - x @ beta_init) + (lam / (2*x.shape[0])) * np.sum(np.square(beta))\n",
    "    beta_init = beta + delta\n",
    "    c = cost(beta_init,x,y)\n",
    "    data = data.append({'time':i,'betas': beta[whi],'delta':delta[whi],'costs':c},ignore_index=True)\n",
    "\n",
    "print('True Beta', beta_real,'beta Hat', beta_hat[0],'Beta Gradient', beta_init[whi])\n",
    "data.iloc[1:,:].plot(x='time',y='betas')\n",
    "data.iloc[1:,:].plot(x='time',y='delta')\n",
    "data.iloc[1:,:].plot(x='time',y='costs',logx=True)"
   ]
  },
  {
   "cell_type": "markdown",
   "metadata": {},
   "source": [
    "<h1> Problem 2"
   ]
  },
  {
   "cell_type": "markdown",
   "metadata": {},
   "source": [
    "<h1>Question 2"
   ]
  },
  {
   "cell_type": "code",
   "execution_count": 125,
   "metadata": {},
   "outputs": [
    {
     "data": {
      "text/html": [
       "<div>\n",
       "<style scoped>\n",
       "    .dataframe tbody tr th:only-of-type {\n",
       "        vertical-align: middle;\n",
       "    }\n",
       "\n",
       "    .dataframe tbody tr th {\n",
       "        vertical-align: top;\n",
       "    }\n",
       "\n",
       "    .dataframe thead tr th {\n",
       "        text-align: left;\n",
       "    }\n",
       "\n",
       "    .dataframe thead tr:last-of-type th {\n",
       "        text-align: right;\n",
       "    }\n",
       "</style>\n",
       "<table border=\"1\" class=\"dataframe\">\n",
       "  <thead>\n",
       "    <tr>\n",
       "      <th></th>\n",
       "      <th colspan=\"4\" halign=\"left\">mean</th>\n",
       "      <th colspan=\"4\" halign=\"left\">std</th>\n",
       "    </tr>\n",
       "    <tr>\n",
       "      <th>name</th>\n",
       "      <th>jes_A</th>\n",
       "      <th>jes_B</th>\n",
       "      <th>mle_A</th>\n",
       "      <th>mle_B</th>\n",
       "      <th>jes_A</th>\n",
       "      <th>jes_B</th>\n",
       "      <th>mle_A</th>\n",
       "      <th>mle_B</th>\n",
       "    </tr>\n",
       "    <tr>\n",
       "      <th>n</th>\n",
       "      <th></th>\n",
       "      <th></th>\n",
       "      <th></th>\n",
       "      <th></th>\n",
       "      <th></th>\n",
       "      <th></th>\n",
       "      <th></th>\n",
       "      <th></th>\n",
       "    </tr>\n",
       "  </thead>\n",
       "  <tbody>\n",
       "    <tr>\n",
       "      <th>10.0</th>\n",
       "      <td>0.670446</td>\n",
       "      <td>0.744304</td>\n",
       "      <td>0.898764</td>\n",
       "      <td>1.073206</td>\n",
       "      <td>0.342980</td>\n",
       "      <td>0.325369</td>\n",
       "      <td>0.454721</td>\n",
       "      <td>0.504538</td>\n",
       "    </tr>\n",
       "    <tr>\n",
       "      <th>100.0</th>\n",
       "      <td>0.577758</td>\n",
       "      <td>0.755471</td>\n",
       "      <td>0.999681</td>\n",
       "      <td>1.014085</td>\n",
       "      <td>0.083529</td>\n",
       "      <td>0.110294</td>\n",
       "      <td>0.139198</td>\n",
       "      <td>0.144366</td>\n",
       "    </tr>\n",
       "    <tr>\n",
       "      <th>1000.0</th>\n",
       "      <td>0.570738</td>\n",
       "      <td>0.756627</td>\n",
       "      <td>0.993561</td>\n",
       "      <td>1.005191</td>\n",
       "      <td>0.026432</td>\n",
       "      <td>0.036207</td>\n",
       "      <td>0.047277</td>\n",
       "      <td>0.048376</td>\n",
       "    </tr>\n",
       "    <tr>\n",
       "      <th>10000.0</th>\n",
       "      <td>0.572940</td>\n",
       "      <td>0.759628</td>\n",
       "      <td>0.999477</td>\n",
       "      <td>1.003108</td>\n",
       "      <td>0.007547</td>\n",
       "      <td>0.009782</td>\n",
       "      <td>0.013727</td>\n",
       "      <td>0.013538</td>\n",
       "    </tr>\n",
       "    <tr>\n",
       "      <th>100000.0</th>\n",
       "      <td>0.572507</td>\n",
       "      <td>0.758096</td>\n",
       "      <td>0.999021</td>\n",
       "      <td>1.000210</td>\n",
       "      <td>0.002368</td>\n",
       "      <td>0.003531</td>\n",
       "      <td>0.003672</td>\n",
       "      <td>0.004587</td>\n",
       "    </tr>\n",
       "  </tbody>\n",
       "</table>\n",
       "</div>"
      ],
      "text/plain": [
       "              mean                                     std            \\\n",
       "name         jes_A     jes_B     mle_A     mle_B     jes_A     jes_B   \n",
       "n                                                                      \n",
       "10.0      0.670446  0.744304  0.898764  1.073206  0.342980  0.325369   \n",
       "100.0     0.577758  0.755471  0.999681  1.014085  0.083529  0.110294   \n",
       "1000.0    0.570738  0.756627  0.993561  1.005191  0.026432  0.036207   \n",
       "10000.0   0.572940  0.759628  0.999477  1.003108  0.007547  0.009782   \n",
       "100000.0  0.572507  0.758096  0.999021  1.000210  0.002368  0.003531   \n",
       "\n",
       "                              \n",
       "name         mle_A     mle_B  \n",
       "n                             \n",
       "10.0      0.454721  0.504538  \n",
       "100.0     0.139198  0.144366  \n",
       "1000.0    0.047277  0.048376  \n",
       "10000.0   0.013727  0.013538  \n",
       "100000.0  0.003672  0.004587  "
      ]
     },
     "execution_count": 125,
     "metadata": {},
     "output_type": "execute_result"
    }
   ],
   "source": [
    "all_cost = pd.DataFrame()\n",
    "def cost(mu, mu_oracle,name,n):\n",
    "    global all_cost\n",
    "    cost = np.mean(np.square(mu - mu_oracle))\n",
    "    data= {'name':name,'cost':cost,'n':n}\n",
    "    all_cost = all_cost.append(data,ignore_index=True)\n",
    "    \n",
    "N  = np.logspace(1,5,5,base=10)\n",
    "cov_real = np.array([[1, 2], [2, 3]])\n",
    "mean = np.array([0, 0])\n",
    "\n",
    "simulations = 100\n",
    "for n in N:\n",
    "    n = int(n)\n",
    "    for i in range(simulations):\n",
    "        oracle = np.random.multivariate_normal(mean, cov_real, n)\n",
    "        za = np.random.normal(oracle[:,0], 1, n)\n",
    "        zb = np.random.normal(oracle[:,1], 1, n)\n",
    "\n",
    "        # MLE\n",
    "        z = np.column_stack((za, zb))\n",
    "        z_means = np.mean(z,axis=0)\n",
    "        z -= z_means\n",
    "        cov = np.array([[z[:,0] @ z[:,0], z[:,0] @ z[:,1]], [ z[:,0] @ z[:,1],  z[:,1] @ z[:,1]]])\n",
    "        coef = np.linalg.inv(np.linalg.inv(cov) + np.eye(2))\n",
    "        mu_mle = coef @ z.T\n",
    "        cost(mu_mle[0],oracle[:, 0],'mle_A',n)\n",
    "        cost(mu_mle[1],oracle[:, 1],'mle_B',n)\n",
    "\n",
    "        # James Stein\n",
    "        mu_jes_A = (1 - (n - 2)/ (za@za))*za\n",
    "        mu_jes_B = (1 - (n - 2)/(zb@zb))*zb\n",
    "        cost(mu_jes_A,oracle[:, 0],'jes_A',n)\n",
    "        cost(mu_jes_B,oracle[:, 1],'jes_B',n)\n",
    "\n",
    "all_cost.pivot_table(values='cost', index= ['n'],columns=['name'], aggfunc=[np.mean,np.std])"
   ]
  }
 ],
 "metadata": {
  "kernelspec": {
   "display_name": "Python 3",
   "language": "python",
   "name": "python3"
  },
  "language_info": {
   "codemirror_mode": {
    "name": "ipython",
    "version": 3
   },
   "file_extension": ".py",
   "mimetype": "text/x-python",
   "name": "python",
   "nbconvert_exporter": "python",
   "pygments_lexer": "ipython3",
   "version": "3.6.10"
  }
 },
 "nbformat": 4,
 "nbformat_minor": 2
}
